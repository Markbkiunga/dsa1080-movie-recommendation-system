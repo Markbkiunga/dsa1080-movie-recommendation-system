{
 "cells": [
  {
   "cell_type": "code",
   "execution_count": null,
   "id": "e2d9f994",
   "metadata": {},
   "outputs": [],
   "source": [
    "# Week 3 - Feature Engineering\n",
    "\n",
    "import pandas as pd\n",
    "from sklearn.model_selection import train_test_split\n",
    "\n",
    "# Load the dataset\n",
    "df = pd.read_csv('../data/cleaned.csv')\n",
    "\n",
    "# ✅ NO NEED to clean or map Accident_severity\n",
    "print(\"\\n🎯 Unique values in 'Accident_severity':\", df['Accident_severity'].unique())\n",
    "\n",
    "# Optional: Check for NaNs\n",
    "if df['Accident_severity'].isna().sum() > 0:\n",
    "    df = df.dropna(subset=['Accident_severity'])\n",
    "\n",
    "# One-hot encode categorical features\n",
    "categorical_cols = [\n",
    "    'Age_band_of_driver', 'Sex_of_driver', 'Educational_level',\n",
    "    'Driving_experience', 'Lanes_or_Medians', 'Types_of_Junction',\n",
    "    'Road_surface_type', 'Light_conditions', 'Weather_conditions',\n",
    "    'Type_of_collision', 'Vehicle_movement', 'Pedestrian_movement',\n",
    "    'Cause_of_accident'\n",
    "]\n",
    "\n",
    "df_encoded = pd.get_dummies(df, columns=categorical_cols, drop_first=True)\n",
    "\n",
    "# Split features and labels\n",
    "X = df_encoded.drop(columns=['Accident_severity'])\n",
    "y = df_encoded['Accident_severity']\n",
    "\n",
    "print(f\"\\n✅ Dataset ready. Samples: {X.shape[0]} | Features: {X.shape[1]}\")\n",
    "\n",
    "# Split\n",
    "X_train, X_test, y_train, y_test = train_test_split(\n",
    "    X, y, test_size=0.2, random_state=42, stratify=y\n",
    ")\n",
    "\n",
    "print(\"\\n✅ Train-test split complete:\")\n",
    "print(f\"X_train: {X_train.shape} | y_train: {y_train.shape}\")\n",
    "print(f\"X_test:  {X_test.shape} | y_test:  {y_test.shape}\")\n",
    "\n",
    "import numpy as np\n",
    "unique, counts = np.unique(y_train, return_counts=True)\n",
    "print(dict(zip(unique, counts)))"
   ]
  }
 ],
 "metadata": {
  "language_info": {
   "name": "python"
  }
 },
 "nbformat": 4,
 "nbformat_minor": 5
}
