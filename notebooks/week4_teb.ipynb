{
 "cells": [
  {
   "cell_type": "code",
   "execution_count": 1,
   "id": "e033015a",
   "metadata": {},
   "outputs": [
    {
     "name": "stdout",
     "output_type": "stream",
     "text": [
      "\n",
      "✅ After SMOTE class distribution:\n",
      "Accident_severity\n",
      "2    10415\n",
      "1    10415\n",
      "0    10415\n",
      "Name: count, dtype: int64\n",
      "\n",
      "📦 Data ready: 24996 training samples, 6249 test samples\n",
      "\n",
      "📊 Model Performance Summary:\n",
      "                 Model  Accuracy  Precision    Recall  F1 Score\n",
      "2        Random Forest  0.889582   0.889655  0.889582  0.888953\n",
      "1        Decision Tree  0.831653   0.833469  0.831653  0.828398\n",
      "0  Logistic Regression  0.732277   0.725642  0.732277  0.726833\n"
     ]
    },
    {
     "data": {
      "text/plain": [
       "<Figure size 1000x600 with 0 Axes>"
      ]
     },
     "metadata": {},
     "output_type": "display_data"
    },
    {
     "data": {
      "image/png": "[encoded data removed]",
      "text/plain": [
       "<Figure size 640x480 with 1 Axes>"
      ]
     },
     "metadata": {},
     "output_type": "display_data"
    },
    {
     "name": "stdout",
     "output_type": "stream",
     "text": [
      "\n",
      "🏆 Best Performing Model: Random Forest\n",
      "✅ Model and features saved to ../models/\n"
     ]
    }
   ],
   "source": [
    "# Week 4 & 5 - Training, Evaluation and Balancing with SMOTE\n",
    "\n",
    "# --- Step 0: Import Libraries ---\n",
    "import pandas as pd\n",
    "import numpy as np\n",
    "import joblib\n",
    "import os\n",
    "import matplotlib.pyplot as plt\n",
    "import seaborn as sns\n",
    "\n",
    "from sklearn.model_selection import train_test_split\n",
    "from sklearn.linear_model import LogisticRegression\n",
    "from sklearn.tree import DecisionTreeClassifier\n",
    "from sklearn.ensemble import RandomForestClassifier\n",
    "from sklearn.metrics import (\n",
    "    accuracy_score, precision_score, recall_score, f1_score,\n",
    "    classification_report, confusion_matrix\n",
    ")\n",
    "\n",
    "from imblearn.over_sampling import SMOTE\n",
    "\n",
    "# --- Step 1: Load Dataset ---\n",
    "df = pd.read_csv('../data/cleaned.csv')\n",
    "\n",
    "# Categorical columns to encode\n",
    "categorical_cols = [\n",
    "    'Age_band_of_driver', 'Sex_of_driver', 'Educational_level',\n",
    "    'Driving_experience', 'Lanes_or_Medians', 'Types_of_Junction',\n",
    "    'Road_surface_type', 'Light_conditions', 'Weather_conditions',\n",
    "    'Type_of_collision', 'Vehicle_movement', 'Pedestrian_movement',\n",
    "    'Cause_of_accident', 'Vehicle_driver_relation'\n",
    "]\n",
    "\n",
    "# --- Step 2: One-hot Encoding ---\n",
    "df_encoded = pd.get_dummies(df, columns=categorical_cols, drop_first=True)\n",
    "\n",
    "# Step 3: Split features and labels\n",
    "X = df_encoded.drop(columns=['Accident_severity'])\n",
    "y = df_encoded['Accident_severity']\n",
    "\n",
    "# ✅ Convert boolean columns to integers\n",
    "X = X.astype(int)\n",
    "\n",
    "# Step 4: Apply SMOTE Oversampling\n",
    "from imblearn.over_sampling import SMOTE\n",
    "\n",
    "smote = SMOTE(random_state=42)\n",
    "X_balanced, y_balanced = smote.fit_resample(X, y)\n",
    "\n",
    "print(\"\\n✅ After SMOTE class distribution:\")\n",
    "print(pd.Series(y_balanced).value_counts())\n",
    "\n",
    "# --- Step 5: Train-Test Split ---\n",
    "X_train, X_test, y_train, y_test = train_test_split(\n",
    "    X_balanced, y_balanced, test_size=0.2, random_state=42, stratify=y_balanced\n",
    ")\n",
    "\n",
    "print(f\"\\n📦 Data ready: {X_train.shape[0]} training samples, {X_test.shape[0]} test samples\")\n",
    "\n",
    "# --- Step 6: Train Models ---\n",
    "lr_model = LogisticRegression(max_iter=1000)\n",
    "lr_model.fit(X_train, y_train)\n",
    "lr_preds = lr_model.predict(X_test)\n",
    "\n",
    "dt_model = DecisionTreeClassifier(random_state=42)\n",
    "dt_model.fit(X_train, y_train)\n",
    "dt_preds = dt_model.predict(X_test)\n",
    "\n",
    "rf_model = RandomForestClassifier(n_estimators=100, random_state=42)\n",
    "rf_model.fit(X_train, y_train)\n",
    "rf_preds = rf_model.predict(X_test)\n",
    "\n",
    "# --- Step 7: Evaluation ---\n",
    "def get_metrics(name, y_true, y_pred):\n",
    "    return {\n",
    "        'Model': name,\n",
    "        'Accuracy': accuracy_score(y_true, y_pred),\n",
    "        'Precision': precision_score(y_true, y_pred, average='weighted'),\n",
    "        'Recall': recall_score(y_true, y_pred, average='weighted'),\n",
    "        'F1 Score': f1_score(y_true, y_pred, average='weighted')\n",
    "    }\n",
    "\n",
    "# Collect results\n",
    "results = [\n",
    "    get_metrics('Logistic Regression', y_test, lr_preds),\n",
    "    get_metrics('Decision Tree', y_test, dt_preds),\n",
    "    get_metrics('Random Forest', y_test, rf_preds)\n",
    "]\n",
    "\n",
    "results_df = pd.DataFrame(results).sort_values(by='F1 Score', ascending=False)\n",
    "print(\"\\n📊 Model Performance Summary:\")\n",
    "print(results_df)\n",
    "\n",
    "# --- Step 8: Visualize Results ---\n",
    "plt.figure(figsize=(10, 6))\n",
    "results_df.set_index('Model')[['Accuracy', 'Precision', 'Recall', 'F1 Score']].plot(kind='bar')\n",
    "plt.title(\"Model Performance Comparison\")\n",
    "plt.ylabel(\"Score\")\n",
    "plt.ylim(0, 1.0)\n",
    "plt.grid(True)\n",
    "plt.xticks(rotation=0)\n",
    "plt.tight_layout()\n",
    "plt.show()\n",
    "\n",
    "# --- Step 9: Save Best Model and Features ---\n",
    "model_dir = os.path.join(os.pardir, 'models')\n",
    "os.makedirs(model_dir, exist_ok=True)\n",
    "\n",
    "joblib.dump(rf_model, os.path.join(model_dir, 'random_forest_model.pkl'))\n",
    "joblib.dump(X.columns.tolist(), os.path.join(model_dir, 'feature_columns.pkl'))\n",
    "\n",
    "print(\"\\n🏆 Best Performing Model:\", results_df.iloc[0]['Model'])\n",
    "print(\"✅ Model and features saved to ../models/\")"
   ]
  }
 ],
 "metadata": {
  "kernelspec": {
   "display_name": "venv",
   "language": "python",
   "name": "python3"
  },
  "language_info": {
   "codemirror_mode": {
    "name": "ipython",
    "version": 3
   },
   "file_extension": ".py",
   "mimetype": "text/x-python",
   "name": "python",
   "nbconvert_exporter": "python",
   "pygments_lexer": "ipython3",
   "version": "3.11.9"
  }
 },
 "nbformat": 4,
 "nbformat_minor": 5
}
